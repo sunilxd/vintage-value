{
 "cells": [
  {
   "cell_type": "markdown",
   "metadata": {},
   "source": [
    "Used for filtering only tn datasets"
   ]
  },
  {
   "cell_type": "code",
   "execution_count": 1,
   "metadata": {},
   "outputs": [],
   "source": [
    "from dotenv import load_dotenv\n",
    "import os\n",
    "from pathlib import Path\n",
    "import pandas as pd\n",
    "from datetime import datetime, timedelta\n",
    "from tqdm.auto import tqdm\n",
    "\n",
    "load_dotenv()\n",
    "data_fol = Path(os.getenv(\"DATA_FOL\"))\n",
    "v1 = data_fol / 'v1'\n",
    "tn_v1 = data_fol / 'tn_v1'\n",
    "\n",
    "\n",
    "tn_districts = {\"Ariyalur\", \"Chengalpattu\", \"Chennai\", \"Coimbatore\", \"Cuddalore\", \"Dharmapuri\", \"Dindigul\", \"Erode\", \"Kallakurichi\", \"Kancheepuram\", \"Kanyakumari\", \"Karur\", \"Krishnagiri\", \"Madurai\", \"Mayiladuthurai\", \"Nagapattinam\", \"Namakkal\", \"Nilgiris\", \"Perambalur\", \"Pudukkottai\", \"Ramanathapuram\", \"Ranipet\", \"Salem\", \"Sivaganga\", \"Tenkasi\", \"Thanjavur\", \"Theni\", \"Thoothukudi\", \"Tiruchirappalli\", \"Tirunelveli\", \"Tirupathur\", \"Tiruppur\", \"Tiruvallur\", \"Tiruvannamalai\", \"Tiruvarur\", \"Vellore\", \"Viluppuram\", \"Virudhunagar\",}"
   ]
  },
  {
   "cell_type": "code",
   "execution_count": 2,
   "metadata": {},
   "outputs": [],
   "source": [
    "local = []\n",
    "got_district = set()\n",
    "\n",
    "def week_day(some_date):\n",
    "    return some_date - timedelta(days=some_date.weekday())\n",
    "\n",
    "def tn_values_only(row):\n",
    "    if row['District Name'] not in tn_districts:\n",
    "        return\n",
    "\n",
    "    got_district.add(row['District Name'])\n",
    "    local.append([week_day(row['Price Date']), float(row['Min Price (Rs./Quintal)']), float(row['Max Price (Rs./Quintal)']), float(row['Modal Price (Rs./Quintal)'])])\n",
    "\n"
   ]
  },
  {
   "cell_type": "code",
   "execution_count": 4,
   "metadata": {},
   "outputs": [
    {
     "data": {
      "application/vnd.jupyter.widget-view+json": {
       "model_id": "92fd31332879469fa845c0968be849d1",
       "version_major": 2,
       "version_minor": 0
      },
      "text/plain": [
       "  0%|          | 0/325 [00:00<?, ?it/s]"
      ]
     },
     "metadata": {},
     "output_type": "display_data"
    }
   ],
   "source": [
    "for file in tqdm(os.listdir(v1)):\n",
    "    df = pd.read_feather(v1/file)\n",
    "    df['Price Date'] = pd.to_datetime(df['Price Date'])\n",
    "    local = []\n",
    "    df.apply(tn_values_only, axis=1)\n",
    "    new_df = pd.DataFrame(local, columns=['date', 'min', 'max', 'modal'])\n",
    "\n",
    "    filter_df = new_df.groupby(by=['date']).mean().round(2)\n",
    "    filter_df = filter_df.sort_values('date')\n",
    "    filter_df = filter_df.reset_index()\n",
    "\n",
    "    filter_df.to_feather(tn_v1/file)"
   ]
  },
  {
   "cell_type": "code",
   "execution_count": null,
   "metadata": {},
   "outputs": [],
   "source": []
  }
 ],
 "metadata": {
  "kernelspec": {
   "display_name": "Python 3",
   "language": "python",
   "name": "python3"
  },
  "language_info": {
   "codemirror_mode": {
    "name": "ipython",
    "version": 3
   },
   "file_extension": ".py",
   "mimetype": "text/x-python",
   "name": "python",
   "nbconvert_exporter": "python",
   "pygments_lexer": "ipython3",
   "version": "3.10.12"
  }
 },
 "nbformat": 4,
 "nbformat_minor": 2
}
